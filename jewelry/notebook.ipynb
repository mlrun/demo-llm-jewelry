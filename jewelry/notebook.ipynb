{
 "cells": [
  {
   "cell_type": "markdown",
   "metadata": {},
   "source": [
    "# Jewelry store Agent Example\n",
    "\n",
    "## Table of Contents\n",
    "1. [Introduction](#Introduction)\n",
    "2. [Setup](#Setup)\n",
    "3. [Deploy Factory](#Deploying-the-GenAI-Factory)\n",
    "4. [Deploy Workflow](#Deploying-the-Workflow)\n",
    "5. [Troubleshooting](#Troubleshooting)\n",
    "\n",
    "## Introduction\n",
    "This notebook demonstrates how to set up and run an agent with a couple of tools.<br>\n",
    "The Agent is connected to a sql database with customers and products.<br>\n",
    "The agent will recommend products to customers based on their preferences, and purchase history.<br>\n",
    "The agent also has access to a rag tool, containing information about the store's policy.<br>"
   ]
  },
  {
   "cell_type": "markdown",
   "metadata": {},
   "source": [
    "## Setup\n",
    "\n",
    "Before you start, make sure you have completed the following steps:\n",
    "\n",
    "1. Install the required packages:"
   ]
  },
  {
   "cell_type": "code",
   "metadata": {},
   "source": [
    "!pip install -r requirements.txt"
   ],
   "outputs": [],
   "execution_count": null
  },
  {
   "cell_type": "markdown",
   "metadata": {},
   "source": [
    "\n",
    "2. Set the environment variable:"
   ]
  },
  {
   "cell_type": "code",
   "metadata": {},
   "source": [
    "!export GENAI_FACTORY_ENV_PATH=$(pwd)/.env"
   ],
   "outputs": [],
   "execution_count": null
  },
  {
   "cell_type": "code",
   "metadata": {},
   "source": [
    "%%writefile .env\n",
    "\n",
    "# Configure your environment variables here\n",
    "OPENAI_BASE_URL = ...  # Your OpenAI base URL\n",
    "OPENAI_API_KEY = ...  # Your OpenAI API key\n",
    "GENAI_FACTORY_IS_LOCAL_CONFIG = ...  # Set to 'true' for local configuration\n",
    "MLRUN_GENAI_LOCAL_CHROMA = ...  # Path to local Chroma database (if applicable)"
   ],
   "outputs": [],
   "execution_count": null
  },
  {
   "cell_type": "markdown",
   "metadata": {},
   "source": [
    "## Deploying the Workflow"
   ]
  },
  {
   "metadata": {},
   "cell_type": "markdown",
   "source": "First we need to initialize the db of customers and products"
  },
  {
   "cell_type": "code",
   "metadata": {},
   "source": [
    "!python -m data.main"
   ],
   "outputs": [],
   "execution_count": null
  },
  {
   "metadata": {},
   "cell_type": "markdown",
   "source": [
    "Next, we need to deploy the GenAI Factory application. <br>\n",
    "First, we need to run the genai-factory controller and ui, run in terminal:<br><br> `make genai-factory` "
   ]
  },
  {
   "cell_type": "code",
   "metadata": {},
   "source": [
    "# Deploy the workflow defined in workflow.py\n",
    "!genai-factory run workflow.py "
   ],
   "outputs": [],
   "execution_count": null
  },
  {
   "cell_type": "markdown",
   "metadata": {},
   "source": [
    "This command will start the server and you should see output indicating that the server is running."
   ]
  },
  {
   "cell_type": "markdown",
   "metadata": {},
   "source": [
    "## Troubleshooting\n",
    "\n",
    "If you encounter any issues:\n",
    "\n",
    "1. Ensure all required packages are installed correctly.\n",
    "2. Check that the GENAI_FACTORY_ENV_PATH is set correctly.\n",
    "3. Make sure Docker is running for the controller deployment.\n",
    "4. Verify that the ports used (8000 for the workflow, 3000 for the UI, 8001 for the controller) are not in use by other applications.\n",
    "\n",
    "If problems persist, check the console output for specific error messages and refer to the project documentation for more detailed troubleshooting steps."
   ]
  },
  {
   "cell_type": "markdown",
   "metadata": {},
   "source": ""
  }
 ],
 "metadata": {
  "kernelspec": {
   "display_name": "Python 3 (ipykernel)",
   "language": "python",
   "name": "python3"
  },
  "language_info": {
   "codemirror_mode": {
    "name": "ipython",
    "version": 3
   },
   "file_extension": ".py",
   "mimetype": "text/x-python",
   "name": "python",
   "nbconvert_exporter": "python",
   "pygments_lexer": "ipython3",
   "version": "3.9.19"
  }
 },
 "nbformat": 4,
 "nbformat_minor": 4
}
